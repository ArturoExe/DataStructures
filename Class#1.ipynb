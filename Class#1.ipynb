{
 "cells": [
  {
   "cell_type": "code",
   "execution_count": 2,
   "id": "841d9131",
   "metadata": {},
   "outputs": [
    {
     "name": "stdout",
     "output_type": "stream",
     "text": [
      "h\n",
      "e\n",
      "l\n",
      "l\n",
      "o\n",
      ",\n",
      "w\n",
      "o\n",
      "r\n",
      "l\n",
      "d\n"
     ]
    }
   ],
   "source": [
    "for letter in \"hello,world\":\n",
    "    print(letter)\n"
   ]
  },
  {
   "cell_type": "code",
   "execution_count": 46,
   "id": "0b462015",
   "metadata": {},
   "outputs": [
    {
     "name": "stdout",
     "output_type": "stream",
     "text": [
      "Enter first word: I am lord voldemort\n",
      "Enter second word: I am lord voldemort\n",
      "['a', 'd', 'd', 'e', 'i', 'l', 'l', 'm', 'm', 'o', 'o', 'o', 'r', 'r', 't', 'v']\n",
      "['a', 'd', 'd', 'e', 'i', 'l', 'l', 'm', 'm', 'o', 'o', 'o', 'r', 'r', 't', 'v']\n"
     ]
    },
    {
     "data": {
      "text/plain": [
       "True"
      ]
     },
     "execution_count": 46,
     "metadata": {},
     "output_type": "execute_result"
    }
   ],
   "source": [
    "word1 =input(\"Enter first word: \").lower()\n",
    "word2 = input(\"Enter second word: \").lower()\n",
    "\n",
    "sort1 = sorted(word1.replace(\" \", \"\"))\n",
    "sort2 = sorted(word2.replace(\" \", \"\"))\n",
    "\n",
    "print(sort1)\n",
    "print(sort2)\n",
    "\n",
    "\n",
    "def anagram(sort1,sort2):\n",
    "    \n",
    "    if len(sort1) == len(sort2):\n",
    "        \n",
    "            \n",
    "        for i in range (len(sort1)):\n",
    "            if sort1[i] == sort2[i]:\n",
    "                return True\n",
    "            else:\n",
    "                return False\n",
    "    else:\n",
    "        return print(\"The amount of letters is not the same...\")\n",
    "\n",
    "    \n",
    "\n",
    "anagram(sort1,sort2)\n",
    "\n",
    "        \n",
    "        \n",
    "    "
   ]
  },
  {
   "cell_type": "code",
   "execution_count": null,
   "id": "9c3d581f",
   "metadata": {},
   "outputs": [],
   "source": []
  }
 ],
 "metadata": {
  "kernelspec": {
   "display_name": "Python 3 (ipykernel)",
   "language": "python",
   "name": "python3"
  },
  "language_info": {
   "codemirror_mode": {
    "name": "ipython",
    "version": 3
   },
   "file_extension": ".py",
   "mimetype": "text/x-python",
   "name": "python",
   "nbconvert_exporter": "python",
   "pygments_lexer": "ipython3",
   "version": "3.8.10"
  }
 },
 "nbformat": 4,
 "nbformat_minor": 5
}
