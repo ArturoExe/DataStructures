{
 "cells": [
  {
   "cell_type": "code",
   "execution_count": 2,
   "id": "841d9131",
   "metadata": {},
   "outputs": [
    {
     "name": "stdout",
     "output_type": "stream",
     "text": [
      "h\n",
      "e\n",
      "l\n",
      "l\n",
      "o\n",
      ",\n",
      "w\n",
      "o\n",
      "r\n",
      "l\n",
      "d\n"
     ]
    }
   ],
   "source": [
    "for letter in \"hello,world\":\n",
    "    print(letter)\n"
   ]
  },
  {
   "cell_type": "code",
   "execution_count": 40,
   "id": "97fc009a",
   "metadata": {},
   "outputs": [
    {
     "name": "stdout",
     "output_type": "stream",
     "text": [
      "Enter first word: ola\n",
      "Enter second word: O L A\n",
      "['a', 'l', 'o']\n",
      "['a', 'l', 'o']\n",
      "The amount of letters is not the same...\n"
     ]
    }
   ],
   "source": [
    "word1 =lower(input(\"Enter first word: \"))\n",
    "word2 = lower(input(\"Enter second word: \"))\n",
    "\n",
    "sort1 = sorted(word1.replace(\" \", \"\"))\n",
    "sort2 = sorted(word2.replace(\" \", \"\"))\n",
    "\n",
    "print(sort1)\n",
    "print(sort2)\n",
    "\n",
    "\n",
    "def anagram(word1,word2):\n",
    "    \n",
    "    if len(word1) == len(word2):\n",
    "        \n",
    "            \n",
    "        for i in range (len(word1)):\n",
    "            if sort1[i] == sort2[i]:\n",
    "                return True\n",
    "            else:\n",
    "                return False\n",
    "    else:\n",
    "        return print(\"The amount of letters is not the same...\")\n",
    "\n",
    "    \n",
    "\n",
    "anagram(word1,word2)\n",
    "\n",
    "        \n",
    "        \n",
    "    "
   ]
  },
  {
   "cell_type": "code",
   "execution_count": null,
   "id": "33398fc4",
   "metadata": {},
   "outputs": [],
   "source": []
  }
 ],
 "metadata": {
  "kernelspec": {
   "display_name": "Python 3 (ipykernel)",
   "language": "python",
   "name": "python3"
  },
  "language_info": {
   "codemirror_mode": {
    "name": "ipython",
    "version": 3
   },
   "file_extension": ".py",
   "mimetype": "text/x-python",
   "name": "python",
   "nbconvert_exporter": "python",
   "pygments_lexer": "ipython3",
   "version": "3.8.10"
  }
 },
 "nbformat": 4,
 "nbformat_minor": 5
}
