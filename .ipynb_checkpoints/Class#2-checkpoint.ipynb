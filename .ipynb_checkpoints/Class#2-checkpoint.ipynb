{
 "cells": [
  {
   "cell_type": "code",
   "execution_count": 1,
   "id": "3b26c8f5",
   "metadata": {},
   "outputs": [],
   "source": [
    "class Stack:\n",
    "    \n",
    "    def __init__(self):\n",
    "       self.items = []\n",
    "        \n",
    "    def push(self,element):\n",
    "        self.items.append(element)\n",
    "    \n",
    "    def pop(self):\n",
    "        return self.items.pop()\n",
    "    \n",
    "    def get_size(self):\n",
    "        return len(self.items)\n",
    "    \n",
    "    def is_empty(self):\n",
    "        return self.items == []\n",
    "    \n",
    "    \n",
    "    "
   ]
  },
  {
   "cell_type": "code",
   "execution_count": 2,
   "id": "829d7510",
   "metadata": {},
   "outputs": [
    {
     "name": "stdout",
     "output_type": "stream",
     "text": [
      "Pushing 1 \n",
      "Pushing 2 \n",
      "Pushing 3 \n",
      "Pushing 4 \n",
      "Pushing 5 \n",
      "Got 5 from pop result\n",
      "Got 4 from pop result\n",
      "Got 3 from pop result\n",
      "Got 2 from pop result\n",
      "Got 1 from pop result\n"
     ]
    }
   ],
   "source": [
    "numbers = [1,2,3,4,5]\n",
    "\n",
    "def invert_numbers(col):\n",
    "    stack = Stack()\n",
    "    \n",
    "    for n in numbers:\n",
    "        print(\"Pushing %s \"% n)\n",
    "        stack.push(n)\n",
    "    while not stack.is_empty():\n",
    "        n=stack.pop()\n",
    "        print(\"Got %s from pop result\" % n)\n",
    "        \n",
    "\n",
    "invert_numbers(numbers)"
   ]
  },
  {
   "cell_type": "code",
   "execution_count": 3,
   "id": "d97a4701",
   "metadata": {},
   "outputs": [
    {
     "name": "stdout",
     "output_type": "stream",
     "text": [
      "Enter a word to invert it: hi\n",
      "hi\n",
      "ih\n"
     ]
    }
   ],
   "source": [
    "#Mini challenge\n",
    "###Use a stack to invert a STRING\n",
    "##### given \"mystring\" as a parameter invert it\n",
    "\n",
    "string =input(\"Enter a word to invert it: \")\n",
    "\n",
    "\n",
    "def invert_string(string):\n",
    "    arr = [x for x in string]\n",
    "    rev = ''\n",
    "    new = \"\"\n",
    "    stack = Stack()\n",
    "    \n",
    "    for l in arr:\n",
    "        stack.push(l)\n",
    "\n",
    "    print(string)\n",
    "    \n",
    "    for l in arr:\n",
    "        rev = stack.pop()\n",
    "        new+=rev\n",
    "        \n",
    "    print(new)\n",
    "\n",
    "    \n",
    "    \n",
    "        \n",
    "invert_string(string)"
   ]
  },
  {
   "cell_type": "code",
   "execution_count": 4,
   "id": "bb2850d6",
   "metadata": {},
   "outputs": [],
   "source": [
    "# QUEUES\n",
    "class Queue:\n",
    "    def _init_(self):\n",
    "        self.items = []\n",
    "    \n",
    "    def enqueue(self,element):\n",
    "        self.items.append(element)\n",
    "    \n",
    "    def dequeue(self):\n",
    "        self.items.pop(0)\n",
    "    \n",
    "    def get_size(self):\n",
    "        return len(self.items)\n",
    "    \n",
    "    def is_empty(self):\n",
    "        return self.items == []\n",
    "        \n",
    "        \n",
    "        \n",
    "        "
   ]
  },
  {
   "cell_type": "code",
   "execution_count": 5,
   "id": "5a850b88",
   "metadata": {},
   "outputs": [],
   "source": [
    "class Queue2stacks:\n",
    "    def __init__(self):\n",
    "        self.instack=[]\n",
    "        self.outstack=[]\n",
    "        \n",
    "    def enqueue(self,item):\n",
    "        self.instack.append(item)\n",
    "    \n",
    "    def dequeue(self):\n",
    "        if not self.outstack:\n",
    "            while(self.instack):\n",
    "                item = self.instack.pop()\n",
    "                self.outstack.append(item)\n",
    "        return self.outstack.pop()\n",
    "    \n",
    "    def get_size(self):\n",
    "        return len(self.items)\n",
    "    \n",
    "    def is_empty(self):\n",
    "        return self.items == []\n"
   ]
  },
  {
   "cell_type": "code",
   "execution_count": 6,
   "id": "714d2e34",
   "metadata": {},
   "outputs": [
    {
     "name": "stdout",
     "output_type": "stream",
     "text": [
      "A\n",
      "B\n",
      "C\n",
      "D\n"
     ]
    }
   ],
   "source": [
    "myqueue = Queue2stacks()\n",
    "myqueue.enqueue(\"A\")\n",
    "myqueue.enqueue(\"B\")\n",
    "myqueue.enqueue(\"C\")\n",
    "myqueue.enqueue(\"D\")\n",
    "\n",
    "\n",
    "for _ in range(4):\n",
    "    item = myqueue.dequeue()\n",
    "    print(item)\n"
   ]
  },
  {
   "cell_type": "markdown",
   "id": "3087703e",
   "metadata": {},
   "source": [
    "# Balanced Brackets\n",
    "## My solution"
   ]
  },
  {
   "cell_type": "code",
   "execution_count": 175,
   "id": "533a2e3d",
   "metadata": {},
   "outputs": [],
   "source": [
    "\n",
    "                \n",
    "           \n",
    "\n",
    "                \n"
   ]
  },
  {
   "cell_type": "code",
   "execution_count": 178,
   "id": "9e1eefb9",
   "metadata": {},
   "outputs": [
    {
     "name": "stdout",
     "output_type": "stream",
     "text": [
      " Is balanced\n"
     ]
    },
    {
     "data": {
      "text/plain": [
       "True"
      ]
     },
     "execution_count": 178,
     "metadata": {},
     "output_type": "execute_result"
    }
   ],
   "source": [
    "expr = '{}' \n",
    "\n",
    "is_balanced(expr)\n",
    "  "
   ]
  },
  {
   "cell_type": "code",
   "execution_count": null,
   "id": "0aea9160",
   "metadata": {},
   "outputs": [],
   "source": [
    "# class solution\n",
    "\n",
    "def is_balanced(expresion):\n",
    "    stack = []\n",
    "    opening = set('([{')\n",
    "    closing = set(')]}')\n",
    "    pair = {')' : '(' , ']' : '[' , '}' : '{'}\n",
    "\n",
    "    for i in expresion:\n",
    "        if i in opening:\n",
    "            stack.append(i)\n",
    "        if i in closing:\n",
    "            if not stack:\n",
    "                return False\n",
    "            elif stack.pop() != pair[i]:\n",
    "                return False\n",
    "            else:\n",
    "                continue\n",
    "                \n",
    "    if not stack :\n",
    "        print(' Is balanced')\n",
    "        return True\n",
    "    else :\n",
    "        print(' Is not balanced')\n",
    "        return False"
   ]
  }
 ],
 "metadata": {
  "kernelspec": {
   "display_name": "Python 3 (ipykernel)",
   "language": "python",
   "name": "python3"
  },
  "language_info": {
   "codemirror_mode": {
    "name": "ipython",
    "version": 3
   },
   "file_extension": ".py",
   "mimetype": "text/x-python",
   "name": "python",
   "nbconvert_exporter": "python",
   "pygments_lexer": "ipython3",
   "version": "3.8.10"
  }
 },
 "nbformat": 4,
 "nbformat_minor": 5
}
