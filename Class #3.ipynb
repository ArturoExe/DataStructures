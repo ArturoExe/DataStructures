{
 "cells": [
  {
   "cell_type": "code",
   "execution_count": null,
   "id": "f4caba58",
   "metadata": {},
   "outputs": [],
   "source": [
    "# class solution\n",
    "\n",
    "def is_balanced(expresion):\n",
    "    stack = []\n",
    "    opening = set('([{')\n",
    "    closing = set(')]}')\n",
    "    pair = {')' : '(' , ']' : '[' , '}' : '{'}\n",
    "\n",
    "    for i in expresion:\n",
    "        if i in opening:\n",
    "            stack.append(i)\n",
    "        if i in closing:\n",
    "            if not stack:\n",
    "                return False\n",
    "            elif stack.pop() != pair[i]:\n",
    "                print(' Is not balanced')\n",
    "                return False\n",
    "            else:\n",
    "                continue\n",
    "                \n",
    "    if not stack :\n",
    "        print(' Is balanced')\n",
    "        return True"
   ]
  },
  {
   "cell_type": "code",
   "execution_count": null,
   "id": "ed9c7523",
   "metadata": {},
   "outputs": [],
   "source": [
    "expr = '{}' \n",
    "is_balanced(expr)\n",
    "  "
   ]
  }
 ],
 "metadata": {
  "kernelspec": {
   "display_name": "Python 3 (ipykernel)",
   "language": "python",
   "name": "python3"
  },
  "language_info": {
   "codemirror_mode": {
    "name": "ipython",
    "version": 3
   },
   "file_extension": ".py",
   "mimetype": "text/x-python",
   "name": "python",
   "nbconvert_exporter": "python",
   "pygments_lexer": "ipython3",
   "version": "3.8.10"
  }
 },
 "nbformat": 4,
 "nbformat_minor": 5
}
